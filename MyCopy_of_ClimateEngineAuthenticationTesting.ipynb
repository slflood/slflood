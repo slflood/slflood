{
  "nbformat": 4,
  "nbformat_minor": 0,
  "metadata": {
    "colab": {
      "provenance": [],
      "collapsed_sections": [
        "QULWTelPNkNv"
      ],
      "toc_visible": true,
      "include_colab_link": true
    },
    "kernelspec": {
      "name": "python3",
      "display_name": "Python 3"
    },
    "language_info": {
      "name": "python"
    }
  },
  "cells": [
    {
      "cell_type": "markdown",
      "metadata": {
        "id": "view-in-github",
        "colab_type": "text"
      },
      "source": [
        "<a href=\"https://colab.research.google.com/github/slflood/slflood/blob/main/MyCopy_of_ClimateEngineAuthenticationTesting.ipynb\" target=\"_parent\"><img src=\"https://colab.research.google.com/assets/colab-badge.svg\" alt=\"Open In Colab\"/></a>"
      ]
    },
    {
      "cell_type": "markdown",
      "source": [
        "# Authentication Testing\n",
        "This notebook will allow you to test access to the Climate Engine API and Google Cloud Storage."
      ],
      "metadata": {
        "id": "QULWTelPNkNv"
      }
    },
    {
      "cell_type": "markdown",
      "metadata": {
        "id": "cQM-jejaXc2k"
      },
      "source": [
        "First we will authenticate to the Climate Engine API\n",
        "\n",
        "**NOTE: It is important to read the instructions when exectuting the code block below for successful authentication. You will receive an error.  That is expected**."
      ]
    },
    {
      "cell_type": "markdown",
      "source": [
        "To execute the cell below by hover your mouse over the code block and run the cell (click the \"play button\"). After a mintute an output block will be displayed below the code block.  NOTE: The code block will still be running (spinning):\n",
        "\n",
        "1.   Visit the link presented in the block output and \"Allow\" the Notebook to access your credentials.  A new browser window will open.\n",
        "2.   Select your organizational account\n",
        "3.   **YOU WILL SEE AN ERROR IN THE BROWSER WINDOW.  YOU CAN IGNORE THAT ERROR.**\n",
        "4.   Copy the URL from the browser bar\n",
        "5.   Paste (ctrl-v) the URL in the box in the code block output and press \"Enter\" on your keyboard\n",
        "6.   You are authenticated when the \"play button\" reappears with a green checkmark next to it.\n",
        "7.   Close the authentication browser window (new window that was opened during this step) "
      ],
      "metadata": {
        "id": "u7tfyxnGPURs"
      }
    },
    {
      "cell_type": "code",
      "execution_count": null,
      "metadata": {
        "id": "X0oMwSFnNW1C",
        "colab": {
          "base_uri": "https://localhost:8080/"
        },
        "outputId": "7a770ca5-1917-4c77-e4d4-1316158bae32"
      },
      "outputs": [
        {
          "name": "stdout",
          "output_type": "stream",
          "text": [
            "Please go to the following URL:\n",
            "https://accounts.google.com/o/oauth2/auth?response_type=code&client_id=758591355683-rkhfthbk7equu7o0sk5h7dgmjh9h3gk0.apps.googleusercontent.com&redirect_uri=https%3A%2F%2Flocalhost&scope=https%3A%2F%2Fwww.googleapis.com%2Fauth%2Fuserinfo.email+https%3A%2F%2Fwww.googleapis.com%2Fauth%2Fuserinfo.profile+openid&state=4R7uBPWS8g6tg5ecNOzSDaZp35qN84&prompt=consent&access_type=offline\n",
            "After authenticating, you will be redirected to a page that says: \"This site can't be reached\". This is normal. \n",
            "Copy and paste the url from your browsers url bar below (it should start with https://localhost):\n",
            "https://localhost/?state=4R7uBPWS8g6tg5ecNOzSDaZp35qN84&code=4/0AbUR2VOSlBxbsxOI2wiAkgGEwuB51JUbHvK1XydQlt93bZs7ftEhrCevQp7nte8pZyAh-Q&scope=email%20profile%20https://www.googleapis.com/auth/userinfo.email%20https://www.googleapis.com/auth/userinfo.profile%20openid&authuser=0&hd=sfwmd.gov&prompt=consent\n"
          ]
        }
      ],
      "source": [
        "!pip install requests-iap2 --quiet\n",
        "from requests_iap2 import IAPAuth\n",
        "import requests\n",
        "\n",
        "# AUTHENTICATION FOR PROD\n",
        "# Set \"oob\" variable to \"True\". \n",
        "# Create a requests Session object and set the authentication handler\n",
        "session = requests.Session()\n",
        "session.auth = IAPAuth(\n",
        "    # Client ID and Secret for prod\n",
        "    client_oauth_client_id=\"758591355683-rkhfthbk7equu7o0sk5h7dgmjh9h3gk0.apps.googleusercontent.com\",  # \"Desktop\" client\n",
        "    client_oauth_client_secret=\"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\",  # \"Desktop\" client secret\n",
        "    server_oauth_client_id=\"758591355683-sp71ikmig3o1kbk09pk87t75kdavo6tr.apps.googleusercontent.com\",  # optional, \"Web\" client created by IAP\n",
        "    use_adc=False,  # optional, set to True to use ADC instead of user credentials\n",
        "    oob=True,  # optional, set to True if running in Google Colab set to False when running local (e.g. Anaconda)\n",
        ")"
      ]
    },
    {
      "cell_type": "markdown",
      "source": [
        "Now we will authorize Colab to access the Google Cloud Storage"
      ],
      "metadata": {
        "id": "hyReEuwTOwLL"
      }
    },
    {
      "cell_type": "markdown",
      "source": [
        "Hover over the code block below and execute the cell (play button). You will be prompted to \"Allow this notebook...\"  \n",
        "\n",
        "1.   Click on \"Allow\".\n",
        "2.   Select your organizational account.\n",
        "3.   Select \"Allow\".  You may need to scroll down.\n",
        "4.   The window will close and have authorized access when the play button reappears and you see a green checkmark next to it.   "
      ],
      "metadata": {
        "id": "VaUBGL1eUxk3"
      }
    },
    {
      "cell_type": "markdown",
      "source": [
        "You were successful if you see two green checkmarks next to the play buttons on the two code cells.  Congratulations.\n",
        "\n",
        "If you see a red play button or are having trouble please contact Kurt Saari, ksaari@sfwmd.gov"
      ],
      "metadata": {
        "id": "YOHNGEBxV7dP"
      }
    },
    {
      "cell_type": "code",
      "source": [
        "from google.colab import auth\n",
        "auth.authenticate_user()"
      ],
      "metadata": {
        "id": "sb2Lgw8gPHUJ"
      },
      "execution_count": null,
      "outputs": []
    },
    {
      "cell_type": "markdown",
      "source": [
        "# New break"
      ],
      "metadata": {
        "id": "W1YggQmWIM46"
      }
    },
    {
      "cell_type": "code",
      "source": [
        "import geemap"
      ],
      "metadata": {
        "id": "_PtLJa3iImrH"
      },
      "execution_count": null,
      "outputs": []
    },
    {
      "cell_type": "code",
      "source": [],
      "metadata": {
        "id": "1G1PpYuoLfg5"
      },
      "execution_count": null,
      "outputs": []
    },
    {
      "cell_type": "markdown",
      "source": [
        "# Package list"
      ],
      "metadata": {
        "id": "ambrmadlLlRT"
      }
    },
    {
      "cell_type": "code",
      "source": [
        "!pip list -v"
      ],
      "metadata": {
        "colab": {
          "base_uri": "https://localhost:8080/"
        },
        "id": "FC1vUdPrKVwZ",
        "outputId": "57b3c4d3-803e-4544-fe37-58dd94715940"
      },
      "execution_count": null,
      "outputs": [
        {
          "output_type": "stream",
          "name": "stdout",
          "text": [
            "Package                       Version              Location                                Installer\n",
            "----------------------------- -------------------- --------------------------------------- ---------\n",
            "absl-py                       1.4.0                /usr/local/lib/python3.10/dist-packages pip\n",
            "alabaster                     0.7.13               /usr/local/lib/python3.10/dist-packages pip\n",
            "albumentations                1.2.1                /usr/local/lib/python3.10/dist-packages pip\n",
            "altair                        4.2.2                /usr/local/lib/python3.10/dist-packages pip\n",
            "anyio                         3.6.2                /usr/local/lib/python3.10/dist-packages pip\n",
            "appdirs                       1.4.4                /usr/local/lib/python3.10/dist-packages pip\n",
            "argon2-cffi                   21.3.0               /usr/local/lib/python3.10/dist-packages pip\n",
            "argon2-cffi-bindings          21.2.0               /usr/local/lib/python3.10/dist-packages pip\n",
            "array-record                  0.2.0                /usr/local/lib/python3.10/dist-packages pip\n",
            "arviz                         0.15.1               /usr/local/lib/python3.10/dist-packages pip\n",
            "astropy                       5.2.2                /usr/local/lib/python3.10/dist-packages pip\n",
            "astunparse                    1.6.3                /usr/local/lib/python3.10/dist-packages pip\n",
            "attrs                         23.1.0               /usr/local/lib/python3.10/dist-packages pip\n",
            "audioread                     3.0.0                /usr/local/lib/python3.10/dist-packages pip\n",
            "autograd                      1.5                  /usr/local/lib/python3.10/dist-packages pip\n",
            "Babel                         2.12.1               /usr/local/lib/python3.10/dist-packages pip\n",
            "backcall                      0.2.0                /usr/local/lib/python3.10/dist-packages pip\n",
            "beautifulsoup4                4.11.2               /usr/local/lib/python3.10/dist-packages pip\n",
            "bleach                        6.0.0                /usr/local/lib/python3.10/dist-packages pip\n",
            "blis                          0.7.9                /usr/local/lib/python3.10/dist-packages pip\n",
            "blosc2                        2.0.0                /usr/local/lib/python3.10/dist-packages pip\n",
            "bokeh                         2.4.3                /usr/local/lib/python3.10/dist-packages pip\n",
            "bqplot                        0.12.39              /usr/local/lib/python3.10/dist-packages pip\n",
            "branca                        0.6.0                /usr/local/lib/python3.10/dist-packages pip\n",
            "build                         0.10.0               /usr/local/lib/python3.10/dist-packages pip\n",
            "CacheControl                  0.12.11              /usr/local/lib/python3.10/dist-packages pip\n",
            "cached-property               1.5.2                /usr/local/lib/python3.10/dist-packages pip\n",
            "cachetools                    5.3.0                /usr/local/lib/python3.10/dist-packages pip\n",
            "catalogue                     2.0.8                /usr/local/lib/python3.10/dist-packages pip\n",
            "certifi                       2022.12.7            /usr/local/lib/python3.10/dist-packages pip\n",
            "cffi                          1.15.1               /usr/local/lib/python3.10/dist-packages pip\n",
            "chardet                       4.0.0                /usr/local/lib/python3.10/dist-packages pip\n",
            "charset-normalizer            2.0.12               /usr/local/lib/python3.10/dist-packages pip\n",
            "chex                          0.1.7                /usr/local/lib/python3.10/dist-packages pip\n",
            "click                         8.1.3                /usr/local/lib/python3.10/dist-packages pip\n",
            "cloudpickle                   2.2.1                /usr/local/lib/python3.10/dist-packages pip\n",
            "cmake                         3.25.2               /usr/local/lib/python3.10/dist-packages pip\n",
            "cmdstanpy                     1.1.0                /usr/local/lib/python3.10/dist-packages pip\n",
            "colorcet                      3.0.1                /usr/local/lib/python3.10/dist-packages pip\n",
            "colorlover                    0.3.0                /usr/local/lib/python3.10/dist-packages pip\n",
            "colour                        0.1.5                /usr/local/lib/python3.10/dist-packages pip\n",
            "community                     1.0.0b1              /usr/local/lib/python3.10/dist-packages pip\n",
            "confection                    0.0.4                /usr/local/lib/python3.10/dist-packages pip\n",
            "cons                          0.4.5                /usr/local/lib/python3.10/dist-packages pip\n",
            "contextlib2                   0.6.0.post1          /usr/local/lib/python3.10/dist-packages pip\n",
            "contourpy                     1.0.7                /usr/local/lib/python3.10/dist-packages pip\n",
            "convertdate                   2.4.0                /usr/local/lib/python3.10/dist-packages pip\n",
            "cryptography                  40.0.2               /usr/local/lib/python3.10/dist-packages pip\n",
            "cufflinks                     0.17.3               /usr/local/lib/python3.10/dist-packages pip\n",
            "cvxopt                        1.3.0                /usr/local/lib/python3.10/dist-packages pip\n",
            "cvxpy                         1.3.1                /usr/local/lib/python3.10/dist-packages pip\n",
            "cycler                        0.11.0               /usr/local/lib/python3.10/dist-packages pip\n",
            "cymem                         2.0.7                /usr/local/lib/python3.10/dist-packages pip\n",
            "Cython                        0.29.34              /usr/local/lib/python3.10/dist-packages pip\n",
            "dask                          2022.12.1            /usr/local/lib/python3.10/dist-packages pip\n",
            "datascience                   0.17.6               /usr/local/lib/python3.10/dist-packages pip\n",
            "db-dtypes                     1.1.1                /usr/local/lib/python3.10/dist-packages pip\n",
            "dbus-python                   1.2.16               /usr/lib/python3/dist-packages\n",
            "debugpy                       1.6.6                /usr/local/lib/python3.10/dist-packages pip\n",
            "decorator                     4.4.2                /usr/local/lib/python3.10/dist-packages pip\n",
            "defusedxml                    0.7.1                /usr/local/lib/python3.10/dist-packages pip\n",
            "distributed                   2022.12.1            /usr/local/lib/python3.10/dist-packages pip\n",
            "dlib                          19.24.1              /usr/local/lib/python3.10/dist-packages pip\n",
            "dm-tree                       0.1.8                /usr/local/lib/python3.10/dist-packages pip\n",
            "docutils                      0.16                 /usr/local/lib/python3.10/dist-packages pip\n",
            "dopamine-rl                   4.0.6                /usr/local/lib/python3.10/dist-packages pip\n",
            "duckdb                        0.7.1                /usr/local/lib/python3.10/dist-packages pip\n",
            "earthengine-api               0.1.350              /usr/local/lib/python3.10/dist-packages pip\n",
            "easydict                      1.10                 /usr/local/lib/python3.10/dist-packages pip\n",
            "ecos                          2.0.12               /usr/local/lib/python3.10/dist-packages pip\n",
            "editdistance                  0.6.2                /usr/local/lib/python3.10/dist-packages pip\n",
            "eerepr                        0.0.4                /usr/local/lib/python3.10/dist-packages pip\n",
            "en-core-web-sm                3.5.0                /usr/local/lib/python3.10/dist-packages pip\n",
            "entrypoints                   0.4                  /usr/local/lib/python3.10/dist-packages pip\n",
            "ephem                         4.1.4                /usr/local/lib/python3.10/dist-packages pip\n",
            "et-xmlfile                    1.1.0                /usr/local/lib/python3.10/dist-packages pip\n",
            "etils                         1.2.0                /usr/local/lib/python3.10/dist-packages pip\n",
            "etuples                       0.3.8                /usr/local/lib/python3.10/dist-packages pip\n",
            "exceptiongroup                1.1.1                /usr/local/lib/python3.10/dist-packages pip\n",
            "fastai                        2.7.12               /usr/local/lib/python3.10/dist-packages pip\n",
            "fastcore                      1.5.29               /usr/local/lib/python3.10/dist-packages pip\n",
            "fastdownload                  0.0.7                /usr/local/lib/python3.10/dist-packages pip\n",
            "fastjsonschema                2.16.3               /usr/local/lib/python3.10/dist-packages pip\n",
            "fastprogress                  1.0.3                /usr/local/lib/python3.10/dist-packages pip\n",
            "fastrlock                     0.8.1                /usr/local/lib/python3.10/dist-packages pip\n",
            "filelock                      3.12.0               /usr/local/lib/python3.10/dist-packages pip\n",
            "firebase-admin                5.3.0                /usr/local/lib/python3.10/dist-packages pip\n",
            "Flask                         2.2.4                /usr/local/lib/python3.10/dist-packages pip\n",
            "flatbuffers                   23.3.3               /usr/local/lib/python3.10/dist-packages pip\n",
            "flax                          0.6.9                /usr/local/lib/python3.10/dist-packages pip\n",
            "folium                        0.14.0               /usr/local/lib/python3.10/dist-packages pip\n",
            "fonttools                     4.39.3               /usr/local/lib/python3.10/dist-packages pip\n",
            "frozendict                    2.3.7                /usr/local/lib/python3.10/dist-packages pip\n",
            "fsspec                        2023.4.0             /usr/local/lib/python3.10/dist-packages pip\n",
            "future                        0.18.3               /usr/local/lib/python3.10/dist-packages pip\n",
            "gast                          0.4.0                /usr/local/lib/python3.10/dist-packages pip\n",
            "GDAL                          3.3.2                /usr/local/lib/python3.10/dist-packages pip\n",
            "gdown                         4.6.6                /usr/local/lib/python3.10/dist-packages pip\n",
            "geemap                        0.20.6               /usr/local/lib/python3.10/dist-packages pip\n",
            "gensim                        4.3.1                /usr/local/lib/python3.10/dist-packages pip\n",
            "geocoder                      1.38.1               /usr/local/lib/python3.10/dist-packages pip\n",
            "geographiclib                 2.0                  /usr/local/lib/python3.10/dist-packages pip\n",
            "geopy                         2.3.0                /usr/local/lib/python3.10/dist-packages pip\n",
            "gin-config                    0.5.0                /usr/local/lib/python3.10/dist-packages pip\n",
            "glob2                         0.7                  /usr/local/lib/python3.10/dist-packages pip\n",
            "google                        2.0.3                /usr/local/lib/python3.10/dist-packages pip\n",
            "google-api-core               2.11.0               /usr/local/lib/python3.10/dist-packages pip\n",
            "google-api-python-client      2.84.0               /usr/local/lib/python3.10/dist-packages pip\n",
            "google-auth                   2.17.3               /usr/local/lib/python3.10/dist-packages pip\n",
            "google-auth-httplib2          0.1.0                /usr/local/lib/python3.10/dist-packages pip\n",
            "google-auth-oauthlib          1.0.0                /usr/local/lib/python3.10/dist-packages pip\n",
            "google-cloud-bigquery         3.9.0                /usr/local/lib/python3.10/dist-packages pip\n",
            "google-cloud-bigquery-storage 2.19.1               /usr/local/lib/python3.10/dist-packages pip\n",
            "google-cloud-core             2.3.2                /usr/local/lib/python3.10/dist-packages pip\n",
            "google-cloud-datastore        2.15.1               /usr/local/lib/python3.10/dist-packages pip\n",
            "google-cloud-firestore        2.11.0               /usr/local/lib/python3.10/dist-packages pip\n",
            "google-cloud-language         2.9.1                /usr/local/lib/python3.10/dist-packages pip\n",
            "google-cloud-storage          2.8.0                /usr/local/lib/python3.10/dist-packages pip\n",
            "google-cloud-translate        3.11.1               /usr/local/lib/python3.10/dist-packages pip\n",
            "google-colab                  1.0.0                /usr/local/lib/python3.10/dist-packages pip\n",
            "google-crc32c                 1.5.0                /usr/local/lib/python3.10/dist-packages pip\n",
            "google-pasta                  0.2.0                /usr/local/lib/python3.10/dist-packages pip\n",
            "google-resumable-media        2.5.0                /usr/local/lib/python3.10/dist-packages pip\n",
            "googleapis-common-protos      1.59.0               /usr/local/lib/python3.10/dist-packages pip\n",
            "googledrivedownloader         0.4                  /usr/local/lib/python3.10/dist-packages pip\n",
            "graphviz                      0.20.1               /usr/local/lib/python3.10/dist-packages pip\n",
            "greenlet                      2.0.2                /usr/local/lib/python3.10/dist-packages pip\n",
            "grpcio                        1.54.0               /usr/local/lib/python3.10/dist-packages pip\n",
            "grpcio-status                 1.48.2               /usr/local/lib/python3.10/dist-packages pip\n",
            "gspread                       3.4.2                /usr/local/lib/python3.10/dist-packages pip\n",
            "gspread-dataframe             3.0.8                /usr/local/lib/python3.10/dist-packages pip\n",
            "gym                           0.25.2               /usr/local/lib/python3.10/dist-packages pip\n",
            "gym-notices                   0.0.8                /usr/local/lib/python3.10/dist-packages pip\n",
            "h5netcdf                      1.1.0                /usr/local/lib/python3.10/dist-packages pip\n",
            "h5py                          3.8.0                /usr/local/lib/python3.10/dist-packages pip\n",
            "hijri-converter               2.3.1                /usr/local/lib/python3.10/dist-packages pip\n",
            "holidays                      0.23                 /usr/local/lib/python3.10/dist-packages pip\n",
            "holoviews                     1.15.4               /usr/local/lib/python3.10/dist-packages pip\n",
            "html5lib                      1.1                  /usr/local/lib/python3.10/dist-packages pip\n",
            "httpimport                    1.3.0                /usr/local/lib/python3.10/dist-packages pip\n",
            "httplib2                      0.21.0               /usr/local/lib/python3.10/dist-packages pip\n",
            "humanize                      4.6.0                /usr/local/lib/python3.10/dist-packages pip\n",
            "hyperopt                      0.2.7                /usr/local/lib/python3.10/dist-packages pip\n",
            "idna                          3.4                  /usr/local/lib/python3.10/dist-packages pip\n",
            "imageio                       2.25.1               /usr/local/lib/python3.10/dist-packages pip\n",
            "imageio-ffmpeg                0.4.8                /usr/local/lib/python3.10/dist-packages pip\n",
            "imagesize                     1.4.1                /usr/local/lib/python3.10/dist-packages pip\n",
            "imbalanced-learn              0.10.1               /usr/local/lib/python3.10/dist-packages pip\n",
            "imgaug                        0.4.0                /usr/local/lib/python3.10/dist-packages pip\n",
            "importlib-resources           5.12.0               /usr/local/lib/python3.10/dist-packages pip\n",
            "imutils                       0.5.4                /usr/local/lib/python3.10/dist-packages pip\n",
            "inflect                       6.0.4                /usr/local/lib/python3.10/dist-packages pip\n",
            "iniconfig                     2.0.0                /usr/local/lib/python3.10/dist-packages pip\n",
            "intel-openmp                  2023.1.0             /usr/local/lib/python3.10/dist-packages pip\n",
            "ipyevents                     2.0.1                /usr/local/lib/python3.10/dist-packages pip\n",
            "ipyfilechooser                0.6.0                /usr/local/lib/python3.10/dist-packages pip\n",
            "ipykernel                     5.5.6                /usr/local/lib/python3.10/dist-packages pip\n",
            "ipyleaflet                    0.17.2               /usr/local/lib/python3.10/dist-packages pip\n",
            "ipython                       7.34.0               /usr/local/lib/python3.10/dist-packages pip\n",
            "ipython-genutils              0.2.0                /usr/local/lib/python3.10/dist-packages pip\n",
            "ipython-sql                   0.4.1                /usr/local/lib/python3.10/dist-packages pip\n",
            "ipytree                       0.2.2                /usr/local/lib/python3.10/dist-packages pip\n",
            "ipywidgets                    7.7.1                /usr/local/lib/python3.10/dist-packages pip\n",
            "itsdangerous                  2.1.2                /usr/local/lib/python3.10/dist-packages pip\n",
            "jax                           0.4.8                /usr/local/lib/python3.10/dist-packages pip\n",
            "jaxlib                        0.4.7+cuda11.cudnn86 /usr/local/lib/python3.10/dist-packages pip\n",
            "jedi                          0.18.2               /usr/local/lib/python3.10/dist-packages pip\n",
            "jieba                         0.42.1               /usr/local/lib/python3.10/dist-packages pip\n",
            "Jinja2                        3.1.2                /usr/local/lib/python3.10/dist-packages pip\n",
            "joblib                        1.2.0                /usr/local/lib/python3.10/dist-packages pip\n",
            "jsonpickle                    3.0.1                /usr/local/lib/python3.10/dist-packages pip\n",
            "jsonschema                    4.3.3                /usr/local/lib/python3.10/dist-packages pip\n",
            "jupyter-client                6.1.12               /usr/local/lib/python3.10/dist-packages pip\n",
            "jupyter-console               6.1.0                /usr/local/lib/python3.10/dist-packages pip\n",
            "jupyter_core                  5.3.0                /usr/local/lib/python3.10/dist-packages pip\n",
            "jupyter-server                1.24.0               /usr/local/lib/python3.10/dist-packages pip\n",
            "jupyterlab-pygments           0.2.2                /usr/local/lib/python3.10/dist-packages pip\n",
            "jupyterlab-widgets            3.0.7                /usr/local/lib/python3.10/dist-packages pip\n",
            "kaggle                        1.5.13               /usr/local/lib/python3.10/dist-packages pip\n",
            "keras                         2.12.0               /usr/local/lib/python3.10/dist-packages pip\n",
            "kiwisolver                    1.4.4                /usr/local/lib/python3.10/dist-packages pip\n",
            "korean-lunar-calendar         0.3.1                /usr/local/lib/python3.10/dist-packages pip\n",
            "langcodes                     3.3.0                /usr/local/lib/python3.10/dist-packages pip\n",
            "lazy_loader                   0.2                  /usr/local/lib/python3.10/dist-packages pip\n",
            "libclang                      16.0.0               /usr/local/lib/python3.10/dist-packages pip\n",
            "librosa                       0.10.0.post2         /usr/local/lib/python3.10/dist-packages pip\n",
            "lightgbm                      3.3.5                /usr/local/lib/python3.10/dist-packages pip\n",
            "lit                           16.0.3               /usr/local/lib/python3.10/dist-packages pip\n",
            "llvmlite                      0.39.1               /usr/local/lib/python3.10/dist-packages pip\n",
            "locket                        1.0.0                /usr/local/lib/python3.10/dist-packages pip\n",
            "logical-unification           0.4.5                /usr/local/lib/python3.10/dist-packages pip\n",
            "LunarCalendar                 0.0.9                /usr/local/lib/python3.10/dist-packages pip\n",
            "lxml                          4.9.2                /usr/local/lib/python3.10/dist-packages pip\n",
            "Markdown                      3.4.3                /usr/local/lib/python3.10/dist-packages pip\n",
            "markdown-it-py                2.2.0                /usr/local/lib/python3.10/dist-packages pip\n",
            "MarkupSafe                    2.1.2                /usr/local/lib/python3.10/dist-packages pip\n",
            "matplotlib                    3.7.1                /usr/local/lib/python3.10/dist-packages pip\n",
            "matplotlib-inline             0.1.6                /usr/local/lib/python3.10/dist-packages pip\n",
            "matplotlib-venn               0.11.9               /usr/local/lib/python3.10/dist-packages pip\n",
            "mdurl                         0.1.2                /usr/local/lib/python3.10/dist-packages pip\n",
            "miniKanren                    1.0.3                /usr/local/lib/python3.10/dist-packages pip\n",
            "missingno                     0.5.2                /usr/local/lib/python3.10/dist-packages pip\n",
            "mistune                       0.8.4                /usr/local/lib/python3.10/dist-packages pip\n",
            "mizani                        0.8.1                /usr/local/lib/python3.10/dist-packages pip\n",
            "mkl                           2019.0               /usr/local/lib/python3.10/dist-packages pip\n",
            "ml-dtypes                     0.1.0                /usr/local/lib/python3.10/dist-packages pip\n",
            "mlxtend                       0.14.0               /usr/local/lib/python3.10/dist-packages pip\n",
            "more-itertools                9.1.0                /usr/local/lib/python3.10/dist-packages pip\n",
            "moviepy                       1.0.3                /usr/local/lib/python3.10/dist-packages pip\n",
            "mpmath                        1.3.0                /usr/local/lib/python3.10/dist-packages pip\n",
            "msgpack                       1.0.5                /usr/local/lib/python3.10/dist-packages pip\n",
            "multipledispatch              0.6.0                /usr/local/lib/python3.10/dist-packages pip\n",
            "multitasking                  0.0.11               /usr/local/lib/python3.10/dist-packages pip\n",
            "murmurhash                    1.0.9                /usr/local/lib/python3.10/dist-packages pip\n",
            "music21                       8.1.0                /usr/local/lib/python3.10/dist-packages pip\n",
            "natsort                       8.3.1                /usr/local/lib/python3.10/dist-packages pip\n",
            "nbclient                      0.7.4                /usr/local/lib/python3.10/dist-packages pip\n",
            "nbconvert                     6.5.4                /usr/local/lib/python3.10/dist-packages pip\n",
            "nbformat                      5.8.0                /usr/local/lib/python3.10/dist-packages pip\n",
            "nest-asyncio                  1.5.6                /usr/local/lib/python3.10/dist-packages pip\n",
            "networkx                      3.1                  /usr/local/lib/python3.10/dist-packages pip\n",
            "nibabel                       3.0.2                /usr/local/lib/python3.10/dist-packages pip\n",
            "nltk                          3.8.1                /usr/local/lib/python3.10/dist-packages pip\n",
            "notebook                      6.4.8                /usr/local/lib/python3.10/dist-packages pip\n",
            "numba                         0.56.4               /usr/local/lib/python3.10/dist-packages pip\n",
            "numexpr                       2.8.4                /usr/local/lib/python3.10/dist-packages pip\n",
            "numpy                         1.22.4               /usr/local/lib/python3.10/dist-packages pip\n",
            "oauth2client                  4.1.3                /usr/local/lib/python3.10/dist-packages pip\n",
            "oauthlib                      3.2.2                /usr/local/lib/python3.10/dist-packages pip\n",
            "opencv-contrib-python         4.7.0.72             /usr/local/lib/python3.10/dist-packages pip\n",
            "opencv-python                 4.7.0.72             /usr/local/lib/python3.10/dist-packages pip\n",
            "opencv-python-headless        4.7.0.72             /usr/local/lib/python3.10/dist-packages pip\n",
            "openpyxl                      3.0.10               /usr/local/lib/python3.10/dist-packages pip\n",
            "opt-einsum                    3.3.0                /usr/local/lib/python3.10/dist-packages pip\n",
            "optax                         0.1.5                /usr/local/lib/python3.10/dist-packages pip\n",
            "orbax-checkpoint              0.2.1                /usr/local/lib/python3.10/dist-packages pip\n",
            "osqp                          0.6.2.post8          /usr/local/lib/python3.10/dist-packages pip\n",
            "packaging                     23.1                 /usr/local/lib/python3.10/dist-packages pip\n",
            "palettable                    3.3.3                /usr/local/lib/python3.10/dist-packages pip\n",
            "pandas                        1.5.3                /usr/local/lib/python3.10/dist-packages pip\n",
            "pandas-datareader             0.10.0               /usr/local/lib/python3.10/dist-packages pip\n",
            "pandas-gbq                    0.17.9               /usr/local/lib/python3.10/dist-packages pip\n",
            "pandocfilters                 1.5.0                /usr/local/lib/python3.10/dist-packages pip\n",
            "panel                         0.14.4               /usr/local/lib/python3.10/dist-packages pip\n",
            "param                         1.13.0               /usr/local/lib/python3.10/dist-packages pip\n",
            "parso                         0.8.3                /usr/local/lib/python3.10/dist-packages pip\n",
            "partd                         1.4.0                /usr/local/lib/python3.10/dist-packages pip\n",
            "pathlib                       1.0.1                /usr/local/lib/python3.10/dist-packages pip\n",
            "pathy                         0.10.1               /usr/local/lib/python3.10/dist-packages pip\n",
            "patsy                         0.5.3                /usr/local/lib/python3.10/dist-packages pip\n",
            "pexpect                       4.8.0                /usr/local/lib/python3.10/dist-packages pip\n",
            "pickleshare                   0.7.5                /usr/local/lib/python3.10/dist-packages pip\n",
            "Pillow                        8.4.0                /usr/local/lib/python3.10/dist-packages pip\n",
            "pip                           23.1.2               /usr/local/lib/python3.10/dist-packages pip\n",
            "pip-tools                     6.13.0               /usr/local/lib/python3.10/dist-packages pip\n",
            "platformdirs                  3.3.0                /usr/local/lib/python3.10/dist-packages pip\n",
            "plotly                        5.13.1               /usr/local/lib/python3.10/dist-packages pip\n",
            "plotnine                      0.10.1               /usr/local/lib/python3.10/dist-packages pip\n",
            "pluggy                        1.0.0                /usr/local/lib/python3.10/dist-packages pip\n",
            "polars                        0.17.3               /usr/local/lib/python3.10/dist-packages pip\n",
            "pooch                         1.6.0                /usr/local/lib/python3.10/dist-packages pip\n",
            "portpicker                    1.3.9                /usr/local/lib/python3.10/dist-packages pip\n",
            "prefetch-generator            1.0.3                /usr/local/lib/python3.10/dist-packages pip\n",
            "preshed                       3.0.8                /usr/local/lib/python3.10/dist-packages pip\n",
            "prettytable                   0.7.2                /usr/local/lib/python3.10/dist-packages pip\n",
            "proglog                       0.1.10               /usr/local/lib/python3.10/dist-packages pip\n",
            "progressbar2                  4.2.0                /usr/local/lib/python3.10/dist-packages pip\n",
            "prometheus-client             0.16.0               /usr/local/lib/python3.10/dist-packages pip\n",
            "promise                       2.3                  /usr/local/lib/python3.10/dist-packages pip\n",
            "prompt-toolkit                3.0.38               /usr/local/lib/python3.10/dist-packages pip\n",
            "prophet                       1.1.2                /usr/local/lib/python3.10/dist-packages pip\n",
            "proto-plus                    1.22.2               /usr/local/lib/python3.10/dist-packages pip\n",
            "protobuf                      3.20.3               /usr/local/lib/python3.10/dist-packages pip\n",
            "psutil                        5.9.5                /usr/local/lib/python3.10/dist-packages pip\n",
            "psycopg2                      2.9.6                /usr/local/lib/python3.10/dist-packages pip\n",
            "ptyprocess                    0.7.0                /usr/local/lib/python3.10/dist-packages pip\n",
            "py-cpuinfo                    9.0.0                /usr/local/lib/python3.10/dist-packages pip\n",
            "py4j                          0.10.9.7             /usr/local/lib/python3.10/dist-packages pip\n",
            "pyarrow                       9.0.0                /usr/local/lib/python3.10/dist-packages pip\n",
            "pyasn1                        0.5.0                /usr/local/lib/python3.10/dist-packages pip\n",
            "pyasn1-modules                0.3.0                /usr/local/lib/python3.10/dist-packages pip\n",
            "pycocotools                   2.0.6                /usr/local/lib/python3.10/dist-packages pip\n",
            "pycparser                     2.21                 /usr/local/lib/python3.10/dist-packages pip\n",
            "pyct                          0.5.0                /usr/local/lib/python3.10/dist-packages pip\n",
            "pydantic                      1.10.7               /usr/local/lib/python3.10/dist-packages pip\n",
            "pydata-google-auth            1.7.0                /usr/local/lib/python3.10/dist-packages pip\n",
            "pydot                         1.4.2                /usr/local/lib/python3.10/dist-packages pip\n",
            "pydot-ng                      2.0.0                /usr/local/lib/python3.10/dist-packages pip\n",
            "pydotplus                     2.0.2                /usr/local/lib/python3.10/dist-packages pip\n",
            "PyDrive                       1.3.1                /usr/local/lib/python3.10/dist-packages pip\n",
            "pyerfa                        2.0.0.3              /usr/local/lib/python3.10/dist-packages pip\n",
            "pygame                        2.3.0                /usr/local/lib/python3.10/dist-packages pip\n",
            "Pygments                      2.14.0               /usr/local/lib/python3.10/dist-packages pip\n",
            "PyGObject                     3.36.0               /usr/lib/python3/dist-packages\n",
            "pymc                          5.1.2                /usr/local/lib/python3.10/dist-packages pip\n",
            "PyMeeus                       0.5.12               /usr/local/lib/python3.10/dist-packages pip\n",
            "pymystem3                     0.2.0                /usr/local/lib/python3.10/dist-packages pip\n",
            "PyOpenGL                      3.1.6                /usr/local/lib/python3.10/dist-packages pip\n",
            "pyparsing                     3.0.9                /usr/local/lib/python3.10/dist-packages pip\n",
            "pyperclip                     1.8.2                /usr/local/lib/python3.10/dist-packages pip\n",
            "pyproject_hooks               1.0.0                /usr/local/lib/python3.10/dist-packages pip\n",
            "pyrsistent                    0.19.3               /usr/local/lib/python3.10/dist-packages pip\n",
            "PySocks                       1.7.1                /usr/local/lib/python3.10/dist-packages pip\n",
            "pytensor                      2.10.1               /usr/local/lib/python3.10/dist-packages pip\n",
            "pytest                        7.2.2                /usr/local/lib/python3.10/dist-packages pip\n",
            "python-apt                    0.0.0                /usr/local/lib/python3.10/dist-packages\n",
            "python-box                    7.0.1                /usr/local/lib/python3.10/dist-packages pip\n",
            "python-dateutil               2.8.2                /usr/local/lib/python3.10/dist-packages pip\n",
            "python-louvain                0.16                 /usr/local/lib/python3.10/dist-packages pip\n",
            "python-slugify                8.0.1                /usr/local/lib/python3.10/dist-packages pip\n",
            "python-utils                  3.5.2                /usr/local/lib/python3.10/dist-packages pip\n",
            "pytz                          2022.7.1             /usr/local/lib/python3.10/dist-packages pip\n",
            "pytz-deprecation-shim         0.1.0.post0          /usr/local/lib/python3.10/dist-packages pip\n",
            "pyviz-comms                   2.2.1                /usr/local/lib/python3.10/dist-packages pip\n",
            "PyWavelets                    1.4.1                /usr/local/lib/python3.10/dist-packages pip\n",
            "PyYAML                        6.0                  /usr/local/lib/python3.10/dist-packages pip\n",
            "pyzmq                         23.2.1               /usr/local/lib/python3.10/dist-packages pip\n",
            "qdldl                         0.1.7                /usr/local/lib/python3.10/dist-packages pip\n",
            "qudida                        0.0.4                /usr/local/lib/python3.10/dist-packages pip\n",
            "ratelim                       0.1.6                /usr/local/lib/python3.10/dist-packages pip\n",
            "regex                         2022.10.31           /usr/local/lib/python3.10/dist-packages pip\n",
            "requests                      2.27.1               /usr/local/lib/python3.10/dist-packages pip\n",
            "requests-iap2                 2.1.0                /usr/local/lib/python3.10/dist-packages pip\n",
            "requests-oauthlib             1.3.1                /usr/local/lib/python3.10/dist-packages pip\n",
            "requests-unixsocket           0.2.0                /usr/lib/python3/dist-packages\n",
            "requirements-parser           0.5.0                /usr/local/lib/python3.10/dist-packages pip\n",
            "rich                          13.3.4               /usr/local/lib/python3.10/dist-packages pip\n",
            "rpy2                          3.5.5                /usr/local/lib/python3.10/dist-packages pip\n",
            "rsa                           4.9                  /usr/local/lib/python3.10/dist-packages pip\n",
            "scikit-image                  0.19.3               /usr/local/lib/python3.10/dist-packages pip\n",
            "scikit-learn                  1.2.2                /usr/local/lib/python3.10/dist-packages pip\n",
            "scipy                         1.10.1               /usr/local/lib/python3.10/dist-packages pip\n",
            "scooby                        0.7.2                /usr/local/lib/python3.10/dist-packages pip\n",
            "scs                           3.2.3                /usr/local/lib/python3.10/dist-packages pip\n",
            "seaborn                       0.12.2               /usr/local/lib/python3.10/dist-packages pip\n",
            "Send2Trash                    1.8.0                /usr/local/lib/python3.10/dist-packages pip\n",
            "setuptools                    67.7.2               /usr/local/lib/python3.10/dist-packages pip\n",
            "shapely                       2.0.1                /usr/local/lib/python3.10/dist-packages pip\n",
            "six                           1.16.0               /usr/local/lib/python3.10/dist-packages pip\n",
            "sklearn-pandas                2.2.0                /usr/local/lib/python3.10/dist-packages pip\n",
            "smart-open                    6.3.0                /usr/local/lib/python3.10/dist-packages pip\n",
            "sniffio                       1.3.0                /usr/local/lib/python3.10/dist-packages pip\n",
            "snowballstemmer               2.2.0                /usr/local/lib/python3.10/dist-packages pip\n",
            "sortedcontainers              2.4.0                /usr/local/lib/python3.10/dist-packages pip\n",
            "soundfile                     0.12.1               /usr/local/lib/python3.10/dist-packages pip\n",
            "soupsieve                     2.4.1                /usr/local/lib/python3.10/dist-packages pip\n",
            "soxr                          0.3.5                /usr/local/lib/python3.10/dist-packages pip\n",
            "spacy                         3.5.2                /usr/local/lib/python3.10/dist-packages pip\n",
            "spacy-legacy                  3.0.12               /usr/local/lib/python3.10/dist-packages pip\n",
            "spacy-loggers                 1.0.4                /usr/local/lib/python3.10/dist-packages pip\n",
            "Sphinx                        3.5.4                /usr/local/lib/python3.10/dist-packages pip\n",
            "sphinxcontrib-applehelp       1.0.4                /usr/local/lib/python3.10/dist-packages pip\n",
            "sphinxcontrib-devhelp         1.0.2                /usr/local/lib/python3.10/dist-packages pip\n",
            "sphinxcontrib-htmlhelp        2.0.1                /usr/local/lib/python3.10/dist-packages pip\n",
            "sphinxcontrib-jsmath          1.0.1                /usr/local/lib/python3.10/dist-packages pip\n",
            "sphinxcontrib-qthelp          1.0.3                /usr/local/lib/python3.10/dist-packages pip\n",
            "sphinxcontrib-serializinghtml 1.1.5                /usr/local/lib/python3.10/dist-packages pip\n",
            "SQLAlchemy                    2.0.10               /usr/local/lib/python3.10/dist-packages pip\n",
            "sqlparse                      0.4.4                /usr/local/lib/python3.10/dist-packages pip\n",
            "srsly                         2.4.6                /usr/local/lib/python3.10/dist-packages pip\n",
            "statsmodels                   0.13.5               /usr/local/lib/python3.10/dist-packages pip\n",
            "sympy                         1.11.1               /usr/local/lib/python3.10/dist-packages pip\n",
            "tables                        3.8.0                /usr/local/lib/python3.10/dist-packages pip\n",
            "tabulate                      0.8.10               /usr/local/lib/python3.10/dist-packages pip\n",
            "tblib                         1.7.0                /usr/local/lib/python3.10/dist-packages pip\n",
            "tenacity                      8.2.2                /usr/local/lib/python3.10/dist-packages pip\n",
            "tensorboard                   2.12.2               /usr/local/lib/python3.10/dist-packages pip\n",
            "tensorboard-data-server       0.7.0                /usr/local/lib/python3.10/dist-packages pip\n",
            "tensorboard-plugin-wit        1.8.1                /usr/local/lib/python3.10/dist-packages pip\n",
            "tensorflow                    2.12.0               /usr/local/lib/python3.10/dist-packages pip\n",
            "tensorflow-datasets           4.9.2                /usr/local/lib/python3.10/dist-packages pip\n",
            "tensorflow-estimator          2.12.0               /usr/local/lib/python3.10/dist-packages pip\n",
            "tensorflow-gcs-config         2.12.0               /usr/local/lib/python3.10/dist-packages pip\n",
            "tensorflow-hub                0.13.0               /usr/local/lib/python3.10/dist-packages pip\n",
            "tensorflow-io-gcs-filesystem  0.32.0               /usr/local/lib/python3.10/dist-packages pip\n",
            "tensorflow-metadata           1.13.1               /usr/local/lib/python3.10/dist-packages pip\n",
            "tensorflow-probability        0.19.0               /usr/local/lib/python3.10/dist-packages pip\n",
            "tensorstore                   0.1.36               /usr/local/lib/python3.10/dist-packages pip\n",
            "termcolor                     2.3.0                /usr/local/lib/python3.10/dist-packages pip\n",
            "terminado                     0.17.1               /usr/local/lib/python3.10/dist-packages pip\n",
            "text-unidecode                1.3                  /usr/local/lib/python3.10/dist-packages pip\n",
            "textblob                      0.17.1               /usr/local/lib/python3.10/dist-packages pip\n",
            "tf-slim                       1.1.0                /usr/local/lib/python3.10/dist-packages pip\n",
            "thinc                         8.1.9                /usr/local/lib/python3.10/dist-packages pip\n",
            "threadpoolctl                 3.1.0                /usr/local/lib/python3.10/dist-packages pip\n",
            "tifffile                      2023.4.12            /usr/local/lib/python3.10/dist-packages pip\n",
            "tinycss2                      1.2.1                /usr/local/lib/python3.10/dist-packages pip\n",
            "toml                          0.10.2               /usr/local/lib/python3.10/dist-packages pip\n",
            "tomli                         2.0.1                /usr/local/lib/python3.10/dist-packages pip\n",
            "toolz                         0.12.0               /usr/local/lib/python3.10/dist-packages pip\n",
            "torch                         2.0.0+cu118          /usr/local/lib/python3.10/dist-packages pip\n",
            "torchaudio                    2.0.1+cu118          /usr/local/lib/python3.10/dist-packages pip\n",
            "torchdata                     0.6.0                /usr/local/lib/python3.10/dist-packages pip\n",
            "torchsummary                  1.5.1                /usr/local/lib/python3.10/dist-packages pip\n",
            "torchtext                     0.15.1               /usr/local/lib/python3.10/dist-packages pip\n",
            "torchvision                   0.15.1+cu118         /usr/local/lib/python3.10/dist-packages pip\n",
            "tornado                       6.3.1                /usr/local/lib/python3.10/dist-packages pip\n",
            "tqdm                          4.65.0               /usr/local/lib/python3.10/dist-packages pip\n",
            "traitlets                     5.7.1                /usr/local/lib/python3.10/dist-packages pip\n",
            "traittypes                    0.2.1                /usr/local/lib/python3.10/dist-packages pip\n",
            "triton                        2.0.0                /usr/local/lib/python3.10/dist-packages pip\n",
            "tweepy                        4.13.0               /usr/local/lib/python3.10/dist-packages pip\n",
            "typer                         0.7.0                /usr/local/lib/python3.10/dist-packages pip\n",
            "types-setuptools              67.7.0.2             /usr/local/lib/python3.10/dist-packages pip\n",
            "typing_extensions             4.5.0                /usr/local/lib/python3.10/dist-packages pip\n",
            "tzdata                        2023.3               /usr/local/lib/python3.10/dist-packages pip\n",
            "tzlocal                       4.3                  /usr/local/lib/python3.10/dist-packages pip\n",
            "uritemplate                   4.1.1                /usr/local/lib/python3.10/dist-packages pip\n",
            "urllib3                       1.26.15              /usr/local/lib/python3.10/dist-packages pip\n",
            "vega-datasets                 0.9.0                /usr/local/lib/python3.10/dist-packages pip\n",
            "wasabi                        1.1.1                /usr/local/lib/python3.10/dist-packages pip\n",
            "wcwidth                       0.2.6                /usr/local/lib/python3.10/dist-packages pip\n",
            "webcolors                     1.13                 /usr/local/lib/python3.10/dist-packages pip\n",
            "webencodings                  0.5.1                /usr/local/lib/python3.10/dist-packages pip\n",
            "websocket-client              1.5.1                /usr/local/lib/python3.10/dist-packages pip\n",
            "Werkzeug                      2.3.0                /usr/local/lib/python3.10/dist-packages pip\n",
            "wheel                         0.40.0               /usr/local/lib/python3.10/dist-packages pip\n",
            "widgetsnbextension            3.6.4                /usr/local/lib/python3.10/dist-packages pip\n",
            "wordcloud                     1.8.2.2              /usr/local/lib/python3.10/dist-packages pip\n",
            "wrapt                         1.14.1               /usr/local/lib/python3.10/dist-packages pip\n",
            "xarray                        2022.12.0            /usr/local/lib/python3.10/dist-packages pip\n",
            "xarray-einstats               0.5.1                /usr/local/lib/python3.10/dist-packages pip\n",
            "xgboost                       1.7.5                /usr/local/lib/python3.10/dist-packages pip\n",
            "xlrd                          2.0.1                /usr/local/lib/python3.10/dist-packages pip\n",
            "xyzservices                   2023.2.0             /usr/local/lib/python3.10/dist-packages pip\n",
            "yellowbrick                   1.5                  /usr/local/lib/python3.10/dist-packages pip\n",
            "yfinance                      0.2.18               /usr/local/lib/python3.10/dist-packages pip\n",
            "zict                          3.0.0                /usr/local/lib/python3.10/dist-packages pip\n",
            "zipp                          3.15.0               /usr/local/lib/python3.10/dist-packages pip\n"
          ]
        }
      ]
    },
    {
      "cell_type": "code",
      "source": [
        "!pip list -v |grep earthengine-api"
      ],
      "metadata": {
        "colab": {
          "base_uri": "https://localhost:8080/"
        },
        "id": "2r48u03WK_In",
        "outputId": "a54a1a35-d02d-4462-d5f5-1d9dba26e068"
      },
      "execution_count": null,
      "outputs": [
        {
          "output_type": "stream",
          "name": "stdout",
          "text": [
            "earthengine-api               0.1.350              /usr/local/lib/python3.10/dist-packages pip\n"
          ]
        }
      ]
    },
    {
      "cell_type": "code",
      "source": [
        "%lsmagic"
      ],
      "metadata": {
        "colab": {
          "base_uri": "https://localhost:8080/",
          "height": 225
        },
        "id": "CfiBxr9DNZwW",
        "outputId": "694b3f79-a0d7-47bc-8326-2a77a033630a"
      },
      "execution_count": null,
      "outputs": [
        {
          "output_type": "execute_result",
          "data": {
            "text/plain": [
              "Available line magics:\n",
              "%alias  %alias_magic  %autoawait  %autocall  %automagic  %autosave  %bookmark  %cat  %cd  %clear  %colors  %conda  %config  %connect_info  %cp  %debug  %dhist  %dirs  %doctest_mode  %ed  %edit  %env  %gui  %hist  %history  %killbgscripts  %ldir  %less  %lf  %lk  %ll  %load  %load_ext  %loadpy  %logoff  %logon  %logstart  %logstate  %logstop  %ls  %lsmagic  %lx  %macro  %magic  %man  %matplotlib  %mkdir  %more  %mv  %notebook  %page  %pastebin  %pdb  %pdef  %pdoc  %pfile  %pinfo  %pinfo2  %pip  %popd  %pprint  %precision  %prun  %psearch  %psource  %pushd  %pwd  %pycat  %pylab  %qtconsole  %quickref  %recall  %rehashx  %reload_ext  %rep  %rerun  %reset  %reset_selective  %rm  %rmdir  %run  %save  %sc  %set_env  %shell  %store  %sx  %system  %tb  %tensorflow_version  %time  %timeit  %unalias  %unload_ext  %who  %who_ls  %whos  %xdel  %xmode\n",
              "\n",
              "Available cell magics:\n",
              "%%!  %%HTML  %%SVG  %%bash  %%bigquery  %%capture  %%debug  %%file  %%html  %%javascript  %%js  %%latex  %%markdown  %%perl  %%prun  %%pypy  %%python  %%python2  %%python3  %%ruby  %%script  %%sh  %%shell  %%svg  %%sx  %%system  %%time  %%timeit  %%writefile\n",
              "\n",
              "Automagic is ON, % prefix IS NOT needed for line magics."
            ],
            "application/json": {
              "line": {
                "automagic": "AutoMagics",
                "autocall": "AutoMagics",
                "alias_magic": "BasicMagics",
                "lsmagic": "BasicMagics",
                "magic": "BasicMagics",
                "page": "BasicMagics",
                "pprint": "BasicMagics",
                "colors": "BasicMagics",
                "xmode": "BasicMagics",
                "quickref": "BasicMagics",
                "doctest_mode": "BasicMagics",
                "gui": "BasicMagics",
                "precision": "BasicMagics",
                "notebook": "BasicMagics",
                "save": "CodeMagics",
                "pastebin": "CodeMagics",
                "loadpy": "CodeMagics",
                "load": "CodeMagics",
                "edit": "KernelMagics",
                "config": "ConfigMagics",
                "prun": "ExecutionMagics",
                "pdb": "ExecutionMagics",
                "debug": "ExecutionMagics",
                "tb": "ExecutionMagics",
                "run": "ExecutionMagics",
                "timeit": "ExecutionMagics",
                "time": "ExecutionMagics",
                "macro": "ExecutionMagics",
                "load_ext": "ExtensionMagics",
                "unload_ext": "ExtensionMagics",
                "reload_ext": "ExtensionMagics",
                "history": "HistoryMagics",
                "recall": "HistoryMagics",
                "rerun": "HistoryMagics",
                "logstart": "LoggingMagics",
                "logstop": "LoggingMagics",
                "logoff": "LoggingMagics",
                "logon": "LoggingMagics",
                "logstate": "LoggingMagics",
                "pinfo": "NamespaceMagics",
                "pinfo2": "NamespaceMagics",
                "pdef": "NamespaceMagics",
                "pdoc": "NamespaceMagics",
                "psource": "NamespaceMagics",
                "pfile": "NamespaceMagics",
                "psearch": "NamespaceMagics",
                "who_ls": "NamespaceMagics",
                "who": "NamespaceMagics",
                "whos": "NamespaceMagics",
                "reset": "NamespaceMagics",
                "reset_selective": "NamespaceMagics",
                "xdel": "NamespaceMagics",
                "alias": "OSMagics",
                "unalias": "OSMagics",
                "rehashx": "OSMagics",
                "pwd": "OSMagics",
                "cd": "OSMagics",
                "env": "OSMagics",
                "set_env": "OSMagics",
                "pushd": "OSMagics",
                "popd": "OSMagics",
                "dirs": "OSMagics",
                "dhist": "OSMagics",
                "sc": "OSMagics",
                "sx": "OSMagics",
                "system": "OSMagics",
                "bookmark": "OSMagics",
                "pycat": "OSMagics",
                "pip": "Other",
                "conda": "PackagingMagics",
                "matplotlib": "PylabMagics",
                "pylab": "PylabMagics",
                "killbgscripts": "ScriptMagics",
                "autoawait": "AsyncMagics",
                "ed": "Other",
                "hist": "Other",
                "rep": "Other",
                "clear": "KernelMagics",
                "less": "KernelMagics",
                "more": "KernelMagics",
                "man": "KernelMagics",
                "connect_info": "KernelMagics",
                "qtconsole": "KernelMagics",
                "autosave": "KernelMagics",
                "mkdir": "Other",
                "rmdir": "Other",
                "mv": "Other",
                "rm": "Other",
                "cp": "Other",
                "cat": "Other",
                "ls": "Other",
                "ll": "Other",
                "lf": "Other",
                "lk": "Other",
                "ldir": "Other",
                "lx": "Other",
                "store": "StoreMagics",
                "shell": "Other",
                "tensorflow_version": "Other"
              },
              "cell": {
                "js": "DisplayMagics",
                "javascript": "DisplayMagics",
                "latex": "DisplayMagics",
                "svg": "DisplayMagics",
                "html": "DisplayMagics",
                "markdown": "DisplayMagics",
                "prun": "ExecutionMagics",
                "debug": "ExecutionMagics",
                "timeit": "ExecutionMagics",
                "time": "ExecutionMagics",
                "capture": "ExecutionMagics",
                "sx": "OSMagics",
                "system": "OSMagics",
                "!": "OSMagics",
                "writefile": "OSMagics",
                "script": "ScriptMagics",
                "sh": "Other",
                "bash": "Other",
                "perl": "Other",
                "ruby": "Other",
                "python": "Other",
                "python2": "Other",
                "python3": "Other",
                "pypy": "Other",
                "SVG": "Other",
                "HTML": "Other",
                "file": "Other",
                "bigquery": "Other",
                "shell": "Other"
              }
            }
          },
          "metadata": {},
          "execution_count": 11
        }
      ]
    },
    {
      "cell_type": "code",
      "source": [
        "lsmagic"
      ],
      "metadata": {
        "colab": {
          "base_uri": "https://localhost:8080/",
          "height": 225
        },
        "id": "Ph-4Dr6KNf9L",
        "outputId": "6eed92cd-17e5-49c5-e22b-cb0be9e2816e"
      },
      "execution_count": null,
      "outputs": [
        {
          "output_type": "execute_result",
          "data": {
            "text/plain": [
              "Available line magics:\n",
              "%alias  %alias_magic  %autoawait  %autocall  %automagic  %autosave  %bookmark  %cat  %cd  %clear  %colors  %conda  %config  %connect_info  %cp  %debug  %dhist  %dirs  %doctest_mode  %ed  %edit  %env  %gui  %hist  %history  %killbgscripts  %ldir  %less  %lf  %lk  %ll  %load  %load_ext  %loadpy  %logoff  %logon  %logstart  %logstate  %logstop  %ls  %lsmagic  %lx  %macro  %magic  %man  %matplotlib  %mkdir  %more  %mv  %notebook  %page  %pastebin  %pdb  %pdef  %pdoc  %pfile  %pinfo  %pinfo2  %pip  %popd  %pprint  %precision  %prun  %psearch  %psource  %pushd  %pwd  %pycat  %pylab  %qtconsole  %quickref  %recall  %rehashx  %reload_ext  %rep  %rerun  %reset  %reset_selective  %rm  %rmdir  %run  %save  %sc  %set_env  %shell  %store  %sx  %system  %tb  %tensorflow_version  %time  %timeit  %unalias  %unload_ext  %who  %who_ls  %whos  %xdel  %xmode\n",
              "\n",
              "Available cell magics:\n",
              "%%!  %%HTML  %%SVG  %%bash  %%bigquery  %%capture  %%debug  %%file  %%html  %%javascript  %%js  %%latex  %%markdown  %%perl  %%prun  %%pypy  %%python  %%python2  %%python3  %%ruby  %%script  %%sh  %%shell  %%svg  %%sx  %%system  %%time  %%timeit  %%writefile\n",
              "\n",
              "Automagic is ON, % prefix IS NOT needed for line magics."
            ],
            "application/json": {
              "line": {
                "automagic": "AutoMagics",
                "autocall": "AutoMagics",
                "alias_magic": "BasicMagics",
                "lsmagic": "BasicMagics",
                "magic": "BasicMagics",
                "page": "BasicMagics",
                "pprint": "BasicMagics",
                "colors": "BasicMagics",
                "xmode": "BasicMagics",
                "quickref": "BasicMagics",
                "doctest_mode": "BasicMagics",
                "gui": "BasicMagics",
                "precision": "BasicMagics",
                "notebook": "BasicMagics",
                "save": "CodeMagics",
                "pastebin": "CodeMagics",
                "loadpy": "CodeMagics",
                "load": "CodeMagics",
                "edit": "KernelMagics",
                "config": "ConfigMagics",
                "prun": "ExecutionMagics",
                "pdb": "ExecutionMagics",
                "debug": "ExecutionMagics",
                "tb": "ExecutionMagics",
                "run": "ExecutionMagics",
                "timeit": "ExecutionMagics",
                "time": "ExecutionMagics",
                "macro": "ExecutionMagics",
                "load_ext": "ExtensionMagics",
                "unload_ext": "ExtensionMagics",
                "reload_ext": "ExtensionMagics",
                "history": "HistoryMagics",
                "recall": "HistoryMagics",
                "rerun": "HistoryMagics",
                "logstart": "LoggingMagics",
                "logstop": "LoggingMagics",
                "logoff": "LoggingMagics",
                "logon": "LoggingMagics",
                "logstate": "LoggingMagics",
                "pinfo": "NamespaceMagics",
                "pinfo2": "NamespaceMagics",
                "pdef": "NamespaceMagics",
                "pdoc": "NamespaceMagics",
                "psource": "NamespaceMagics",
                "pfile": "NamespaceMagics",
                "psearch": "NamespaceMagics",
                "who_ls": "NamespaceMagics",
                "who": "NamespaceMagics",
                "whos": "NamespaceMagics",
                "reset": "NamespaceMagics",
                "reset_selective": "NamespaceMagics",
                "xdel": "NamespaceMagics",
                "alias": "OSMagics",
                "unalias": "OSMagics",
                "rehashx": "OSMagics",
                "pwd": "OSMagics",
                "cd": "OSMagics",
                "env": "OSMagics",
                "set_env": "OSMagics",
                "pushd": "OSMagics",
                "popd": "OSMagics",
                "dirs": "OSMagics",
                "dhist": "OSMagics",
                "sc": "OSMagics",
                "sx": "OSMagics",
                "system": "OSMagics",
                "bookmark": "OSMagics",
                "pycat": "OSMagics",
                "pip": "Other",
                "conda": "PackagingMagics",
                "matplotlib": "PylabMagics",
                "pylab": "PylabMagics",
                "killbgscripts": "ScriptMagics",
                "autoawait": "AsyncMagics",
                "ed": "Other",
                "hist": "Other",
                "rep": "Other",
                "clear": "KernelMagics",
                "less": "KernelMagics",
                "more": "KernelMagics",
                "man": "KernelMagics",
                "connect_info": "KernelMagics",
                "qtconsole": "KernelMagics",
                "autosave": "KernelMagics",
                "mkdir": "Other",
                "rmdir": "Other",
                "mv": "Other",
                "rm": "Other",
                "cp": "Other",
                "cat": "Other",
                "ls": "Other",
                "ll": "Other",
                "lf": "Other",
                "lk": "Other",
                "ldir": "Other",
                "lx": "Other",
                "store": "StoreMagics",
                "shell": "Other",
                "tensorflow_version": "Other"
              },
              "cell": {
                "js": "DisplayMagics",
                "javascript": "DisplayMagics",
                "latex": "DisplayMagics",
                "svg": "DisplayMagics",
                "html": "DisplayMagics",
                "markdown": "DisplayMagics",
                "prun": "ExecutionMagics",
                "debug": "ExecutionMagics",
                "timeit": "ExecutionMagics",
                "time": "ExecutionMagics",
                "capture": "ExecutionMagics",
                "sx": "OSMagics",
                "system": "OSMagics",
                "!": "OSMagics",
                "writefile": "OSMagics",
                "script": "ScriptMagics",
                "sh": "Other",
                "bash": "Other",
                "perl": "Other",
                "ruby": "Other",
                "python": "Other",
                "python2": "Other",
                "python3": "Other",
                "pypy": "Other",
                "SVG": "Other",
                "HTML": "Other",
                "file": "Other",
                "bigquery": "Other",
                "shell": "Other"
              }
            }
          },
          "metadata": {},
          "execution_count": 12
        }
      ]
    },
    {
      "cell_type": "markdown",
      "source": [
        "# mount google drive"
      ],
      "metadata": {
        "id": "hVrIHViyMtsm"
      }
    },
    {
      "cell_type": "code",
      "source": [
        "from google.colab import drive\n",
        "drive.mount('/content/drive')"
      ],
      "metadata": {
        "colab": {
          "base_uri": "https://localhost:8080/"
        },
        "id": "Y_sY1WK_Mx1U",
        "outputId": "05a09075-9f6a-4f2d-83b4-e9b54837f998"
      },
      "execution_count": null,
      "outputs": [
        {
          "output_type": "stream",
          "name": "stdout",
          "text": [
            "Mounted at /content/drive\n"
          ]
        }
      ]
    },
    {
      "cell_type": "code",
      "source": [
        "import os\n",
        " \n",
        "if not os.path.exists('Colab Notebooks/ce_workshops'):\n",
        "    os.mkdir('Colab Notebooks/ce_workshops')\n"
      ],
      "metadata": {
        "colab": {
          "base_uri": "https://localhost:8080/",
          "height": 200
        },
        "id": "7FzCL4jnNrb7",
        "outputId": "9785df05-f539-4808-d036-6adb5a6a01d8"
      },
      "execution_count": null,
      "outputs": [
        {
          "output_type": "error",
          "ename": "FileNotFoundError",
          "evalue": "ignored",
          "traceback": [
            "\u001b[0;31m---------------------------------------------------------------------------\u001b[0m",
            "\u001b[0;31mFileNotFoundError\u001b[0m                         Traceback (most recent call last)",
            "\u001b[0;32m<ipython-input-16-5f691eeb5cce>\u001b[0m in \u001b[0;36m<cell line: 3>\u001b[0;34m()\u001b[0m\n\u001b[1;32m      2\u001b[0m \u001b[0;34m\u001b[0m\u001b[0m\n\u001b[1;32m      3\u001b[0m \u001b[0;32mif\u001b[0m \u001b[0;32mnot\u001b[0m \u001b[0mos\u001b[0m\u001b[0;34m.\u001b[0m\u001b[0mpath\u001b[0m\u001b[0;34m.\u001b[0m\u001b[0mexists\u001b[0m\u001b[0;34m(\u001b[0m\u001b[0;34m'Colab Notebooks/ce_workshops'\u001b[0m\u001b[0;34m)\u001b[0m\u001b[0;34m:\u001b[0m\u001b[0;34m\u001b[0m\u001b[0;34m\u001b[0m\u001b[0m\n\u001b[0;32m----> 4\u001b[0;31m     \u001b[0mos\u001b[0m\u001b[0;34m.\u001b[0m\u001b[0mmkdir\u001b[0m\u001b[0;34m(\u001b[0m\u001b[0;34m'Colab Notebooks/ce_workshops'\u001b[0m\u001b[0;34m)\u001b[0m\u001b[0;34m\u001b[0m\u001b[0;34m\u001b[0m\u001b[0m\n\u001b[0m",
            "\u001b[0;31mFileNotFoundError\u001b[0m: [Errno 2] No such file or directory: 'Colab Notebooks/ce_workshops'"
          ]
        }
      ]
    },
    {
      "cell_type": "code",
      "source": [
        "mkdir ce_workshops"
      ],
      "metadata": {
        "id": "uS0uobkVOZeR"
      },
      "execution_count": null,
      "outputs": []
    },
    {
      "cell_type": "markdown",
      "source": [
        "# geemap"
      ],
      "metadata": {
        "id": "zxERJsWWLYpN"
      }
    },
    {
      "cell_type": "code",
      "source": [],
      "metadata": {
        "id": "p761eucFLa-Y"
      },
      "execution_count": null,
      "outputs": []
    }
  ]
}